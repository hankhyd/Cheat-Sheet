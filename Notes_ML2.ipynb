{
 "cells": [
  {
   "cell_type": "markdown",
   "metadata": {},
   "source": [
    "1. Decision Tree\n",
    "\n",
    "2. Random Forest"
   ]
  },
  {
   "cell_type": "markdown",
   "metadata": {},
   "source": [
    "## XGBoost\n",
    "Leading model for working with standard tabular data(the type of data you store in Pandas DataFrames, as opposed to more exotic types of data like images and videos).\n",
    "Works great on conventional data(also called tabular or strutured data).\n",
    "XGBoost is an implementation of the Gradient Boosted Decision Trees algorithm.\n",
    "\n",
    "### Model Tuning\n",
    "XGBoost has a few parameters that can dramatically affect your model's accuracy and training speed. The first parameters you should understand are:\n",
    "\n",
    "##### n_estimators and early_stopping_rounds\n",
    "\n",
    "**n_estimators** specifies how many times to go through the modeling cycle described above.\n",
    "\n",
    "The argument **early_stopping_rounds** offers a way to automatically find the ideal value. \n",
    "Early stopping causes the model to stop iterating when the validation score stops improving, even if we aren't at the hard stop for n_estimators. It's smart to set a high value for n_estimators and then use early_stopping_rounds to find the optimal time to stop iterating.\n",
    "\n",
    "##### Learning Rate\n",
    "Instead of getting predictions by simply adding up the predictions from each component model, we will multiply the predictions from each model by a small number before adding them in. This means each tree we add to the ensemble helps us less. In practice, this reduces the model's propensity to overfit.\n",
    "\n",
    "So, you can use a higher value of n_estimators without overfitting. If you use early stopping, the appropriate number of trees will be set automatically.\n",
    "\n",
    "In general, a small learning rate (and large number of estimators) will yield more accurate XGBoost models, though it will also take the model longer to train since it does more iterations through the cycle.\n",
    "\n",
    "##### n_jobs\n",
    "On larger datasets where runtime is a consideration, you can use parallelism to build your models faster. It's common to set the parameter n_jobs equal to the number of cores on your machine. On smaller datasets, this won't help.\n",
    "\n",
    "The resulting model won't be any better, so micro-optimizing for fitting time is typically nothing but a distraction. But, it's useful in large datasets where you would otherwise spend a long time waiting during the fit command.\n",
    "\n",
    "XGBoost has a multitude of other parameters, but these will go a very long way in helping you fine-tune your XGBoost model for optimal performance."
   ]
  },
  {
   "cell_type": "markdown",
   "metadata": {},
   "source": [
    "### Pepilines\n",
    "Pepilines are a simple way to keep your data processing and modeling code organized.\n",
    "Specifically, a pepiline bundles preprocessing and modeling steps so you can use the whole bunldes as if it were a single step.\n",
    "Pipelines have some benifits:\n",
    "1. cleaner code\n",
    "2. fewer bugs\n",
    "3. easier to productionize\n",
    "4. more options for modeling testing\n",
    "For your pepilines must start with transformer steps and end with a model.\n",
    "\n",
    "Most of scikit-learn objects are **transformers** or **models**.\n",
    "\n",
    "**Transformers** are for pre-processing before modeling. The Imputer class is an example of a transformer.\n",
    "\n",
    "**Models** are used to make predictions. Step after pre-processing.\n",
    "\n",
    "You can tell if an object is a transformer or a model by how you apply it. After fitting a transformer, you apply it with the *transform* command. After fitting a model, you apply it with the *predict* command."
   ]
  }
 ],
 "metadata": {
  "kernelspec": {
   "display_name": "Python 3",
   "language": "python",
   "name": "python3"
  },
  "language_info": {
   "codemirror_mode": {
    "name": "ipython",
    "version": 3
   },
   "file_extension": ".py",
   "mimetype": "text/x-python",
   "name": "python",
   "nbconvert_exporter": "python",
   "pygments_lexer": "ipython3",
   "version": "3.6.1"
  }
 },
 "nbformat": 4,
 "nbformat_minor": 2
}
